{
 "cells": [
  {
   "cell_type": "markdown",
   "metadata": {},
   "source": [
    "# get data from remote and store for analysis "
   ]
  },
  {
   "cell_type": "code",
   "execution_count": 1,
   "metadata": {},
   "outputs": [],
   "source": [
    "import matplotlib.pyplot as plt\n",
    "import matplotlib.mlab as mlab\n",
    "from datetime import timedelta\n",
    "from datetime import datetime\n",
    "import pandas as pd\n",
    "import numpy as np\n",
    "import pymysql"
   ]
  },
  {
   "cell_type": "code",
   "execution_count": 2,
   "metadata": {},
   "outputs": [],
   "source": [
    "#connect to the database\n",
    "connection=pymysql.connect(host='taro.caxktie247nu.eu-west-1.rds.amazonaws.com'\n",
    "                            ,port=3306\n",
    "                            ,user='admin'\n",
    "                            ,password='9Nw8v9yhx8uOb2nXVL8n'\n",
    "                            ,db='dublinbus'\n",
    "                            #,ssl={\"require_secure_transport\":'Off'}\n",
    "                            ,cursorclass=pymysql.cursors.SSCursor)\n",
    "\n",
    "#create a cur\n",
    "cur = connection.cursor()"
   ]
  },
  {
   "cell_type": "code",
   "execution_count": 3,
   "metadata": {},
   "outputs": [
    {
     "data": {
      "text/plain": [
       "[('Jan_LeaveTimes',),\n",
       " ('RT_Trips',),\n",
       " ('RT_Vehicles',),\n",
       " ('dt_status',),\n",
       " ('his_weather',),\n",
       " ('section_jan',),\n",
       " ('tb_test',)]"
      ]
     },
     "execution_count": 3,
     "metadata": {},
     "output_type": "execute_result"
    }
   ],
   "source": [
    "#get tables\n",
    "sql=\"show tables\"\n",
    "cur.execute(sql)\n",
    "tables=cur.fetchall()\n",
    "tables"
   ]
  },
  {
   "cell_type": "code",
   "execution_count": 4,
   "metadata": {},
   "outputs": [
    {
     "name": "stdout",
     "output_type": "stream",
     "text": [
      "select * from dublinbus.Jan_LeaveTimes\n",
      "select * from dublinbus.RT_Trips\n",
      "select * from dublinbus.RT_Vehicles\n",
      "select * from dublinbus.dt_status\n",
      "select * from dublinbus.his_weather\n",
      "select * from dublinbus.section_jan\n",
      "select * from dublinbus.tb_test\n"
     ]
    }
   ],
   "source": [
    "for table in tables:\n",
    "    name='d_'+table[0]\n",
    "    sql=f\"select * from dublinbus.{table[0]}\"\n",
    "    print(sql)\n",
    "    cur.execute(sql)\n",
    "    locals()['d_'+table[0]]=cur.fetchall()\n",
    "    sql=f\"select COLUMN_NAME from information_schema.COLUMNS where table_name = '{table[0]}' and table_schema = 'dublinbus';\"\n",
    "    cur.execute(sql)\n",
    "    col_name=cur.fetchall()\n",
    "    col=[]\n",
    "    for column in col_name:\n",
    "        col.append(column[0]) \n",
    "    name='df_'+table[0]\n",
    "    locals()['df_'+table[0]]=pd.DataFrame(locals()['d_'+table[0]],columns=col)\n",
    "    locals()['df_'+table[0]].to_csv(f\"{table[0]}.csv\")\n",
    "    \n"
   ]
  }
 ],
 "metadata": {
  "kernelspec": {
   "display_name": "Python [conda env:root] *",
   "language": "python",
   "name": "conda-root-py"
  },
  "language_info": {
   "codemirror_mode": {
    "name": "ipython",
    "version": 3
   },
   "file_extension": ".py",
   "mimetype": "text/x-python",
   "name": "python",
   "nbconvert_exporter": "python",
   "pygments_lexer": "ipython3",
   "version": "3.7.4"
  }
 },
 "nbformat": 4,
 "nbformat_minor": 4
}
