{
 "cells": [
  {
   "cell_type": "code",
   "execution_count": null,
   "metadata": {},
   "outputs": [],
   "source": [
    "# model test"
   ]
  },
  {
   "cell_type": "code",
   "execution_count": 1,
   "metadata": {},
   "outputs": [],
   "source": [
    "import pandas as pd\n",
    "import numpy as np\n",
    "import xgboost as xgb"
   ]
  },
  {
   "cell_type": "code",
   "execution_count": 4,
   "metadata": {},
   "outputs": [],
   "source": [
    "#call the model\n",
    "model = xgb.Booster()\n",
    "#load the model\n",
    "model.load_model(\"../model/General_10.model\")"
   ]
  },
  {
   "cell_type": "code",
   "execution_count": 5,
   "metadata": {},
   "outputs": [],
   "source": [
    "#parameters in your model. \n",
    "predictors = ['hour',\n",
    " 'StopPointID',\n",
    " 'StopPoint_2',\n",
    " 'dayOfWeek',\n",
    " 'holiday',\n",
    " 'distance',\n",
    " 'temp',\n",
    " 'humidity ',\n",
    " 'wind_speed ',\n",
    " 'clouds ',\n",
    " 'extre_weather',\n",
    " 'weather_main_Clear',\n",
    " 'weather_main_Clouds',\n",
    " 'weather_main_Drizzle',\n",
    " 'weather_main_Fog',\n",
    " 'weather_main_Mist',\n",
    " 'weather_main_Rain',\n",
    " 'weather_main_Snow'] \n",
    "\n",
    "# Make dataframe of inputs. \n",
    "inputs = pd.DataFrame(np.zeros(len(predictors))).T\n",
    "inputs.columns = predictors"
   ]
  },
  {
   "cell_type": "code",
   "execution_count": 6,
   "metadata": {
    "jupyter": {
     "source_hidden": true
    }
   },
   "outputs": [
    {
     "data": {
      "text/plain": [
       "array([20.90713], dtype=float32)"
      ]
     },
     "execution_count": 6,
     "metadata": {},
     "output_type": "execute_result"
    }
   ],
   "source": [
    "# input the data according to the order of predictors.\n",
    "#predictors = ['hour','StopPointID','StopPoint_2','dayOfWeek','holiday','distance','temp','humidity ','wind_speed ','clouds ','extre_weather','weather_main_Clear','weather_main_Clouds','weather_main_Drizzle','weather_main_Fog','weather_main_Mist','weather_main_Rain','weather_main_Snow'] \n",
    "inputs.loc[0] = [8,3,12,1,True,100,1,90,6.69,75,0,1,1,1,0,0,np.nan,np.nan]\n",
    "inputdata = xgb.DMatrix(inputs)\n",
    "estimate = model.predict(inputdata)\n",
    "estimate"
   ]
  },
  {
   "cell_type": "code",
   "execution_count": 7,
   "metadata": {},
   "outputs": [
    {
     "data": {
      "text/plain": [
       "array([256.38477], dtype=float32)"
      ]
     },
     "execution_count": 7,
     "metadata": {},
     "output_type": "execute_result"
    }
   ],
   "source": [
    "inputs.loc[0] = [8,7,3,1,True,720,4.05,87,6.69,75,0,0,0,0,0,0,0,0]\n",
    "inputdata = xgb.DMatrix(inputs)\n",
    "estimate = model.predict(inputdata)\n",
    "estimate"
   ]
  },
  {
   "cell_type": "code",
   "execution_count": null,
   "metadata": {},
   "outputs": [],
   "source": []
  },
  {
   "cell_type": "code",
   "execution_count": null,
   "metadata": {},
   "outputs": [],
   "source": []
  }
 ],
 "metadata": {
  "kernelspec": {
   "display_name": "Python [conda env:root] *",
   "language": "python",
   "name": "conda-root-py"
  },
  "language_info": {
   "codemirror_mode": {
    "name": "ipython",
    "version": 3
   },
   "file_extension": ".py",
   "mimetype": "text/x-python",
   "name": "python",
   "nbconvert_exporter": "python",
   "pygments_lexer": "ipython3",
   "version": "3.7.4"
  }
 },
 "nbformat": 4,
 "nbformat_minor": 4
}
