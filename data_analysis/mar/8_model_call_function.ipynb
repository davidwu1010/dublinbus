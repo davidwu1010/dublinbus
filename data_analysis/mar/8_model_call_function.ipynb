{
 "cells": [
  {
   "cell_type": "code",
   "execution_count": null,
   "metadata": {},
   "outputs": [],
   "source": [
    "# model test"
   ]
  },
  {
   "cell_type": "code",
   "execution_count": 3,
   "metadata": {},
   "outputs": [],
   "source": [
    "import pandas as pd\n",
    "import numpy as np\n",
    "import xgboost as xgb"
   ]
  },
  {
   "cell_type": "code",
   "execution_count": 4,
   "metadata": {},
   "outputs": [
    {
     "ename": "OSError",
     "evalue": "[WinError -529697949] Windows Error 0xe06d7363",
     "output_type": "error",
     "traceback": [
      "\u001b[1;31m---------------------------------------------------------------------------\u001b[0m",
      "\u001b[1;31mOSError\u001b[0m                                   Traceback (most recent call last)",
      "\u001b[1;32m<ipython-input-4-6cc8bc3e1146>\u001b[0m in \u001b[0;36m<module>\u001b[1;34m\u001b[0m\n\u001b[0;32m      2\u001b[0m \u001b[0mmodel\u001b[0m \u001b[1;33m=\u001b[0m \u001b[0mxgb\u001b[0m\u001b[1;33m.\u001b[0m\u001b[0mBooster\u001b[0m\u001b[1;33m(\u001b[0m\u001b[1;33m)\u001b[0m\u001b[1;33m\u001b[0m\u001b[1;33m\u001b[0m\u001b[0m\n\u001b[0;32m      3\u001b[0m \u001b[1;31m#load the model\u001b[0m\u001b[1;33m\u001b[0m\u001b[1;33m\u001b[0m\u001b[1;33m\u001b[0m\u001b[0m\n\u001b[1;32m----> 4\u001b[1;33m \u001b[0mmodel\u001b[0m\u001b[1;33m.\u001b[0m\u001b[0mload_model\u001b[0m\u001b[1;33m(\u001b[0m\u001b[1;34m\"../General_2.model\"\u001b[0m\u001b[1;33m)\u001b[0m\u001b[1;33m\u001b[0m\u001b[1;33m\u001b[0m\u001b[0m\n\u001b[0m",
      "\u001b[1;32mD:\\Software\\Anaconda\\lib\\site-packages\\xgboost\\core.py\u001b[0m in \u001b[0;36mload_model\u001b[1;34m(self, fname)\u001b[0m\n\u001b[0;32m   1802\u001b[0m             \u001b[1;31m# from URL.\u001b[0m\u001b[1;33m\u001b[0m\u001b[1;33m\u001b[0m\u001b[1;33m\u001b[0m\u001b[0m\n\u001b[0;32m   1803\u001b[0m             _check_call(_LIB.XGBoosterLoadModel(\n\u001b[1;32m-> 1804\u001b[1;33m                 self.handle, c_str(os_fspath(fname))))\n\u001b[0m\u001b[0;32m   1805\u001b[0m         \u001b[1;32melif\u001b[0m \u001b[0misinstance\u001b[0m\u001b[1;33m(\u001b[0m\u001b[0mfname\u001b[0m\u001b[1;33m,\u001b[0m \u001b[0mbytearray\u001b[0m\u001b[1;33m)\u001b[0m\u001b[1;33m:\u001b[0m\u001b[1;33m\u001b[0m\u001b[1;33m\u001b[0m\u001b[0m\n\u001b[0;32m   1806\u001b[0m             \u001b[0mbuf\u001b[0m \u001b[1;33m=\u001b[0m \u001b[0mfname\u001b[0m\u001b[1;33m\u001b[0m\u001b[1;33m\u001b[0m\u001b[0m\n",
      "\u001b[1;31mOSError\u001b[0m: [WinError -529697949] Windows Error 0xe06d7363"
     ]
    }
   ],
   "source": [
    "#call the model\n",
    "model = xgb.Booster()\n",
    "#load the model\n",
    "model.load_model(\"../General_2.model\")"
   ]
  },
  {
   "cell_type": "code",
   "execution_count": 3,
   "metadata": {},
   "outputs": [],
   "source": [
    "#parameters in your model. \n",
    "predictors = ['hour',\n",
    " 'StopPointID',\n",
    " 'StopPoint_2',\n",
    " 'dayOfWeek',\n",
    " 'holiday',\n",
    " 'distance',\n",
    " 'temp',\n",
    " 'humidity ',\n",
    " 'wind_speed ',\n",
    " 'clouds ',\n",
    " 'extre_weather',\n",
    " 'weather_main_Clear',\n",
    " 'weather_main_Clouds',\n",
    " 'weather_main_Drizzle',\n",
    " 'weather_main_Fog',\n",
    " 'weather_main_Mist',\n",
    " 'weather_main_Rain',\n",
    " 'weather_main_Snow'] \n",
    "\n",
    "# Make dataframe of inputs. \n",
    "inputs = pd.DataFrame(np.zeros(len(predictors))).T\n",
    "inputs.columns = predictors"
   ]
  },
  {
   "cell_type": "code",
   "execution_count": 4,
   "metadata": {
    "jupyter": {
     "source_hidden": true
    }
   },
   "outputs": [
    {
     "data": {
      "text/plain": [
       "array([8.011135], dtype=float32)"
      ]
     },
     "execution_count": 4,
     "metadata": {},
     "output_type": "execute_result"
    }
   ],
   "source": [
    "# input the data according to the order of predictors.\n",
    "#predictors = ['hour','StopPointID','StopPoint_2','dayOfWeek','holiday','distance','temp','humidity ','wind_speed ','clouds ','extre_weather','weather_main_Clear','weather_main_Clouds','weather_main_Drizzle','weather_main_Fog','weather_main_Mist','weather_main_Rain','weather_main_Snow'] \n",
    "inputs.loc[0] = [8,3,12,1,True,100,1,90,6.69,75,0,1,1,1,0,0,np.nan,np.nan]\n",
    "inputdata = xgb.DMatrix(inputs)\n",
    "estimate = model.predict(inputdata)\n",
    "estimate"
   ]
  },
  {
   "cell_type": "code",
   "execution_count": 5,
   "metadata": {},
   "outputs": [
    {
     "data": {
      "text/plain": [
       "array([245.44852], dtype=float32)"
      ]
     },
     "execution_count": 5,
     "metadata": {},
     "output_type": "execute_result"
    }
   ],
   "source": [
    "inputs.loc[0] = [8,7,3,1,True,720,4.05,87,6.69,75,0,0,0,0,0,0,0,0]\n",
    "inputdata = xgb.DMatrix(inputs)\n",
    "estimate = model.predict(inputdata)\n",
    "estimate"
   ]
  },
  {
   "cell_type": "code",
   "execution_count": null,
   "metadata": {},
   "outputs": [],
   "source": []
  },
  {
   "cell_type": "code",
   "execution_count": null,
   "metadata": {},
   "outputs": [],
   "source": []
  }
 ],
 "metadata": {
  "kernelspec": {
   "display_name": "Python [conda env:root] *",
   "language": "python",
   "name": "conda-root-py"
  },
  "language_info": {
   "codemirror_mode": {
    "name": "ipython",
    "version": 3
   },
   "file_extension": ".py",
   "mimetype": "text/x-python",
   "name": "python",
   "nbconvert_exporter": "python",
   "pygments_lexer": "ipython3",
   "version": "3.7.4"
  }
 },
 "nbformat": 4,
 "nbformat_minor": 4
}
