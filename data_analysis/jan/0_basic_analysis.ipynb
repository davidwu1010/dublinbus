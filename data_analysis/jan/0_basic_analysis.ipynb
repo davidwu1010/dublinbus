{
 "cells": [
  {
   "cell_type": "code",
   "execution_count": 27,
   "metadata": {},
   "outputs": [],
   "source": [
    "import matplotlib.pyplot as plt\n",
    "import matplotlib\n",
    "import numpy as np\n",
    "import pandas as pd"
   ]
  },
  {
   "cell_type": "markdown",
   "metadata": {},
   "source": [
    "# 1 df_vehicles"
   ]
  },
  {
   "cell_type": "code",
   "execution_count": 8,
   "metadata": {},
   "outputs": [
    {
     "data": {
      "text/html": [
       "<div>\n",
       "<style scoped>\n",
       "    .dataframe tbody tr th:only-of-type {\n",
       "        vertical-align: middle;\n",
       "    }\n",
       "\n",
       "    .dataframe tbody tr th {\n",
       "        vertical-align: top;\n",
       "    }\n",
       "\n",
       "    .dataframe thead th {\n",
       "        text-align: right;\n",
       "    }\n",
       "</style>\n",
       "<table border=\"1\" class=\"dataframe\">\n",
       "  <thead>\n",
       "    <tr style=\"text-align: right;\">\n",
       "      <th></th>\n",
       "      <th>DataSource</th>\n",
       "      <th>DayOfService</th>\n",
       "      <th>VehicleID</th>\n",
       "      <th>Distance</th>\n",
       "      <th>Minutes</th>\n",
       "      <th>LastUpdate</th>\n",
       "      <th>Note</th>\n",
       "    </tr>\n",
       "  </thead>\n",
       "  <tbody>\n",
       "    <tr>\n",
       "      <th>0</th>\n",
       "      <td>DB</td>\n",
       "      <td>2018-01-01 00:00:00</td>\n",
       "      <td>1000115</td>\n",
       "      <td>129014</td>\n",
       "      <td>28229</td>\n",
       "      <td>2018-01-08 17:21:10</td>\n",
       "      <td>\\r</td>\n",
       "    </tr>\n",
       "    <tr>\n",
       "      <th>1</th>\n",
       "      <td>DB</td>\n",
       "      <td>2018-01-01 00:00:00</td>\n",
       "      <td>1000117</td>\n",
       "      <td>236002</td>\n",
       "      <td>40514</td>\n",
       "      <td>2018-01-08 17:21:10</td>\n",
       "      <td>\\r</td>\n",
       "    </tr>\n",
       "    <tr>\n",
       "      <th>2</th>\n",
       "      <td>DB</td>\n",
       "      <td>2018-01-01 00:00:00</td>\n",
       "      <td>1000118</td>\n",
       "      <td>283432</td>\n",
       "      <td>53234</td>\n",
       "      <td>2018-01-08 17:21:10</td>\n",
       "      <td>\\r</td>\n",
       "    </tr>\n",
       "    <tr>\n",
       "      <th>3</th>\n",
       "      <td>DB</td>\n",
       "      <td>2018-01-01 00:00:00</td>\n",
       "      <td>1000135</td>\n",
       "      <td>178608</td>\n",
       "      <td>41309</td>\n",
       "      <td>2018-01-08 17:21:10</td>\n",
       "      <td>\\r</td>\n",
       "    </tr>\n",
       "    <tr>\n",
       "      <th>4</th>\n",
       "      <td>DB</td>\n",
       "      <td>2018-01-01 00:00:00</td>\n",
       "      <td>1000150</td>\n",
       "      <td>174115</td>\n",
       "      <td>40917</td>\n",
       "      <td>2018-01-08 17:21:10</td>\n",
       "      <td>\\r</td>\n",
       "    </tr>\n",
       "    <tr>\n",
       "      <th>...</th>\n",
       "      <td>...</td>\n",
       "      <td>...</td>\n",
       "      <td>...</td>\n",
       "      <td>...</td>\n",
       "      <td>...</td>\n",
       "      <td>...</td>\n",
       "      <td>...</td>\n",
       "    </tr>\n",
       "    <tr>\n",
       "      <th>272617</th>\n",
       "      <td>DB</td>\n",
       "      <td>2018-12-31 00:00:00</td>\n",
       "      <td>3393876</td>\n",
       "      <td>22188</td>\n",
       "      <td>13901</td>\n",
       "      <td>2019-01-16 18:27:21</td>\n",
       "      <td>\\r</td>\n",
       "    </tr>\n",
       "    <tr>\n",
       "      <th>272618</th>\n",
       "      <td>DB</td>\n",
       "      <td>2018-12-31 00:00:00</td>\n",
       "      <td>3393878</td>\n",
       "      <td>212172</td>\n",
       "      <td>53547</td>\n",
       "      <td>2019-01-16 18:27:21</td>\n",
       "      <td>\\r</td>\n",
       "    </tr>\n",
       "    <tr>\n",
       "      <th>272619</th>\n",
       "      <td>DB</td>\n",
       "      <td>2018-12-31 00:00:00</td>\n",
       "      <td>3394105</td>\n",
       "      <td>263235</td>\n",
       "      <td>54908</td>\n",
       "      <td>2019-01-16 18:27:21</td>\n",
       "      <td>\\r</td>\n",
       "    </tr>\n",
       "    <tr>\n",
       "      <th>272620</th>\n",
       "      <td>DB</td>\n",
       "      <td>2018-12-31 00:00:00</td>\n",
       "      <td>3394106</td>\n",
       "      <td>244247</td>\n",
       "      <td>54652</td>\n",
       "      <td>2019-01-16 18:27:21</td>\n",
       "      <td>\\r</td>\n",
       "    </tr>\n",
       "    <tr>\n",
       "      <th>272621</th>\n",
       "      <td>DB</td>\n",
       "      <td>2018-12-31 00:00:00</td>\n",
       "      <td>3394130</td>\n",
       "      <td>44481</td>\n",
       "      <td>10386</td>\n",
       "      <td>2019-01-16 18:27:21</td>\n",
       "      <td>\\r</td>\n",
       "    </tr>\n",
       "  </tbody>\n",
       "</table>\n",
       "<p>272622 rows × 7 columns</p>\n",
       "</div>"
      ],
      "text/plain": [
       "       DataSource         DayOfService  VehicleID  Distance  Minutes  \\\n",
       "0              DB  2018-01-01 00:00:00    1000115    129014    28229   \n",
       "1              DB  2018-01-01 00:00:00    1000117    236002    40514   \n",
       "2              DB  2018-01-01 00:00:00    1000118    283432    53234   \n",
       "3              DB  2018-01-01 00:00:00    1000135    178608    41309   \n",
       "4              DB  2018-01-01 00:00:00    1000150    174115    40917   \n",
       "...           ...                  ...        ...       ...      ...   \n",
       "272617         DB  2018-12-31 00:00:00    3393876     22188    13901   \n",
       "272618         DB  2018-12-31 00:00:00    3393878    212172    53547   \n",
       "272619         DB  2018-12-31 00:00:00    3394105    263235    54908   \n",
       "272620         DB  2018-12-31 00:00:00    3394106    244247    54652   \n",
       "272621         DB  2018-12-31 00:00:00    3394130     44481    10386   \n",
       "\n",
       "                 LastUpdate Note  \n",
       "0       2018-01-08 17:21:10   \\r  \n",
       "1       2018-01-08 17:21:10   \\r  \n",
       "2       2018-01-08 17:21:10   \\r  \n",
       "3       2018-01-08 17:21:10   \\r  \n",
       "4       2018-01-08 17:21:10   \\r  \n",
       "...                     ...  ...  \n",
       "272617  2019-01-16 18:27:21   \\r  \n",
       "272618  2019-01-16 18:27:21   \\r  \n",
       "272619  2019-01-16 18:27:21   \\r  \n",
       "272620  2019-01-16 18:27:21   \\r  \n",
       "272621  2019-01-16 18:27:21   \\r  \n",
       "\n",
       "[272622 rows x 7 columns]"
      ]
     },
     "execution_count": 8,
     "metadata": {},
     "output_type": "execute_result"
    }
   ],
   "source": [
    "df_vehicles=pd.read_csv('data_prepared/df_vehicles.csv',index_col=0,header=0)\n",
    "df_vehicles"
   ]
  },
  {
   "cell_type": "code",
   "execution_count": 10,
   "metadata": {},
   "outputs": [
    {
     "data": {
      "text/plain": [
       "(272622, 7)"
      ]
     },
     "execution_count": 10,
     "metadata": {},
     "output_type": "execute_result"
    }
   ],
   "source": [
    "df_vehicles.shape"
   ]
  },
  {
   "cell_type": "markdown",
   "metadata": {},
   "source": [
    "## 1.1 minutes"
   ]
  },
  {
   "cell_type": "code",
   "execution_count": 22,
   "metadata": {},
   "outputs": [
    {
     "data": {
      "text/plain": [
       "0"
      ]
     },
     "execution_count": 22,
     "metadata": {},
     "output_type": "execute_result"
    }
   ],
   "source": [
    "df_vehicles['Minutes'].isna().sum()"
   ]
  },
  {
   "cell_type": "code",
   "execution_count": 37,
   "metadata": {},
   "outputs": [
    {
     "data": {
      "image/png": "[encoded data removed]",
      "text/plain": [
       "<Figure size 432x288 with 1 Axes>"
      ]
     },
     "metadata": {
      "needs_background": "light"
     },
     "output_type": "display_data"
    }
   ],
   "source": [
    "plt.hist(df_vehicles['Minutes'], bins=40, facecolor=\"blue\", edgecolor=\"black\")\n",
    "# x\n",
    "plt.xlabel(\"time\")\n",
    "# y\n",
    "plt.ylabel(\"frequency\")\n",
    "\n",
    "plt.show()\n"
   ]
  },
  {
   "cell_type": "code",
   "execution_count": 32,
   "metadata": {},
   "outputs": [
    {
     "data": {
      "image/png": "[encoded data removed]",
      "text/plain": [
       "<Figure size 432x288 with 1 Axes>"
      ]
     },
     "metadata": {
      "needs_background": "light"
     },
     "output_type": "display_data"
    }
   ],
   "source": [
    "# the minutes should not smaller than zero.\n",
    "df_vehicles.boxplot(column='Minutes')\n",
    "plt.show()"
   ]
  },
  {
   "cell_type": "markdown",
   "metadata": {},
   "source": [
    "## 1.2 distance"
   ]
  },
  {
   "cell_type": "code",
   "execution_count": 38,
   "metadata": {},
   "outputs": [
    {
     "data": {
      "image/png": "[encoded data removed]",
      "text/plain": [
       "<Figure size 432x288 with 1 Axes>"
      ]
     },
     "metadata": {
      "needs_background": "light"
     },
     "output_type": "display_data"
    }
   ],
   "source": [
    "plt.hist(df_vehicles['Distance'], bins=40, facecolor=\"blue\", edgecolor=\"black\")\n",
    "# x\n",
    "plt.xlabel(\"Distance\")\n",
    "# y\n",
    "plt.ylabel(\"frequency\")\n",
    "\n",
    "plt.show()"
   ]
  },
  {
   "cell_type": "markdown",
   "metadata": {},
   "source": [
    "# 2 df_trip"
   ]
  },
  {
   "cell_type": "code",
   "execution_count": 40,
   "metadata": {},
   "outputs": [
    {
     "name": "stderr",
     "output_type": "stream",
     "text": [
      "D:\\Software\\Anaconda\\lib\\site-packages\\numpy\\lib\\arraysetops.py:569: FutureWarning: elementwise comparison failed; returning scalar instead, but in the future will perform elementwise comparison\n",
      "  mask |= (ar1 == a)\n"
     ]
    },
    {
     "data": {
      "text/html": [
       "<div>\n",
       "<style scoped>\n",
       "    .dataframe tbody tr th:only-of-type {\n",
       "        vertical-align: middle;\n",
       "    }\n",
       "\n",
       "    .dataframe tbody tr th {\n",
       "        vertical-align: top;\n",
       "    }\n",
       "\n",
       "    .dataframe thead th {\n",
       "        text-align: right;\n",
       "    }\n",
       "</style>\n",
       "<table border=\"1\" class=\"dataframe\">\n",
       "  <thead>\n",
       "    <tr style=\"text-align: right;\">\n",
       "      <th></th>\n",
       "      <th>DataSource</th>\n",
       "      <th>DayOfService</th>\n",
       "      <th>TripID</th>\n",
       "      <th>LineID</th>\n",
       "      <th>RouteID</th>\n",
       "      <th>Direction</th>\n",
       "      <th>PlannedTime_Dep</th>\n",
       "      <th>PlannedTime_Arr</th>\n",
       "      <th>Basin</th>\n",
       "      <th>ActualTime_Dep</th>\n",
       "      <th>ActualTime_Arr</th>\n",
       "      <th>JustificationID</th>\n",
       "      <th>LastUpdate</th>\n",
       "      <th>Note</th>\n",
       "    </tr>\n",
       "  </thead>\n",
       "  <tbody>\n",
       "    <tr>\n",
       "      <th>0</th>\n",
       "      <td>DB</td>\n",
       "      <td>2018-01-01 00:00:00</td>\n",
       "      <td>5955277</td>\n",
       "      <td>16</td>\n",
       "      <td>16_20</td>\n",
       "      <td>1</td>\n",
       "      <td>30000</td>\n",
       "      <td>33932</td>\n",
       "      <td>BasDef</td>\n",
       "      <td>30029.0</td>\n",
       "      <td>33184.0</td>\n",
       "      <td>NaN</td>\n",
       "      <td>2018-01-08 17:21:10</td>\n",
       "      <td>,1899692,\\r</td>\n",
       "    </tr>\n",
       "    <tr>\n",
       "      <th>1</th>\n",
       "      <td>DB</td>\n",
       "      <td>2018-01-01 00:00:00</td>\n",
       "      <td>5955278</td>\n",
       "      <td>16</td>\n",
       "      <td>16_24</td>\n",
       "      <td>2</td>\n",
       "      <td>36000</td>\n",
       "      <td>40588</td>\n",
       "      <td>BasDef</td>\n",
       "      <td>35865.0</td>\n",
       "      <td>39653.0</td>\n",
       "      <td>NaN</td>\n",
       "      <td>2018-01-08 17:21:10</td>\n",
       "      <td>,1899695,\\r</td>\n",
       "    </tr>\n",
       "    <tr>\n",
       "      <th>2</th>\n",
       "      <td>DB</td>\n",
       "      <td>2018-01-01 00:00:00</td>\n",
       "      <td>5955279</td>\n",
       "      <td>16</td>\n",
       "      <td>16_20</td>\n",
       "      <td>1</td>\n",
       "      <td>42000</td>\n",
       "      <td>47365</td>\n",
       "      <td>BasDef</td>\n",
       "      <td>41980.0</td>\n",
       "      <td>46619.0</td>\n",
       "      <td>NaN</td>\n",
       "      <td>2018-01-08 17:21:10</td>\n",
       "      <td>,1899696,\\r</td>\n",
       "    </tr>\n",
       "    <tr>\n",
       "      <th>3</th>\n",
       "      <td>DB</td>\n",
       "      <td>2018-01-01 00:00:00</td>\n",
       "      <td>5955280</td>\n",
       "      <td>16</td>\n",
       "      <td>16_24</td>\n",
       "      <td>2</td>\n",
       "      <td>48000</td>\n",
       "      <td>53590</td>\n",
       "      <td>BasDef</td>\n",
       "      <td>48008.0</td>\n",
       "      <td>53790.0</td>\n",
       "      <td>NaN</td>\n",
       "      <td>2018-01-08 17:21:10</td>\n",
       "      <td>,1899698,\\r</td>\n",
       "    </tr>\n",
       "    <tr>\n",
       "      <th>4</th>\n",
       "      <td>DB</td>\n",
       "      <td>2018-01-01 00:00:00</td>\n",
       "      <td>5955281</td>\n",
       "      <td>16</td>\n",
       "      <td>16_20</td>\n",
       "      <td>1</td>\n",
       "      <td>54000</td>\n",
       "      <td>59288</td>\n",
       "      <td>BasDef</td>\n",
       "      <td>54221.0</td>\n",
       "      <td>59344.0</td>\n",
       "      <td>NaN</td>\n",
       "      <td>2018-01-08 17:21:10</td>\n",
       "      <td>,1899699,\\r</td>\n",
       "    </tr>\n",
       "    <tr>\n",
       "      <th>...</th>\n",
       "      <td>...</td>\n",
       "      <td>...</td>\n",
       "      <td>...</td>\n",
       "      <td>...</td>\n",
       "      <td>...</td>\n",
       "      <td>...</td>\n",
       "      <td>...</td>\n",
       "      <td>...</td>\n",
       "      <td>...</td>\n",
       "      <td>...</td>\n",
       "      <td>...</td>\n",
       "      <td>...</td>\n",
       "      <td>...</td>\n",
       "      <td>...</td>\n",
       "    </tr>\n",
       "    <tr>\n",
       "      <th>2182632</th>\n",
       "      <td>DB</td>\n",
       "      <td>2018-12-31 00:00:00</td>\n",
       "      <td>8592110</td>\n",
       "      <td>11</td>\n",
       "      <td>11_42</td>\n",
       "      <td>2</td>\n",
       "      <td>75600</td>\n",
       "      <td>78677</td>\n",
       "      <td>BasDef</td>\n",
       "      <td>75659.0</td>\n",
       "      <td>79491.0</td>\n",
       "      <td>NaN</td>\n",
       "      <td>2019-01-16 18:27:21</td>\n",
       "      <td>,1897933,\\r</td>\n",
       "    </tr>\n",
       "    <tr>\n",
       "      <th>2182633</th>\n",
       "      <td>DB</td>\n",
       "      <td>2018-12-31 00:00:00</td>\n",
       "      <td>8592113</td>\n",
       "      <td>7A</td>\n",
       "      <td>7A_85</td>\n",
       "      <td>1</td>\n",
       "      <td>38700</td>\n",
       "      <td>42098</td>\n",
       "      <td>BasDef</td>\n",
       "      <td>38607.0</td>\n",
       "      <td>42454.0</td>\n",
       "      <td>NaN</td>\n",
       "      <td>2019-01-16 18:27:21</td>\n",
       "      <td>,2796703,\\r</td>\n",
       "    </tr>\n",
       "    <tr>\n",
       "      <th>2182634</th>\n",
       "      <td>DB</td>\n",
       "      <td>2018-12-31 00:00:00</td>\n",
       "      <td>8592114</td>\n",
       "      <td>7A</td>\n",
       "      <td>7A_87</td>\n",
       "      <td>2</td>\n",
       "      <td>44100</td>\n",
       "      <td>48149</td>\n",
       "      <td>BasDef</td>\n",
       "      <td>43990.0</td>\n",
       "      <td>48039.0</td>\n",
       "      <td>NaN</td>\n",
       "      <td>2019-01-16 18:27:21</td>\n",
       "      <td>,2796705,\\r</td>\n",
       "    </tr>\n",
       "    <tr>\n",
       "      <th>2182635</th>\n",
       "      <td>DB</td>\n",
       "      <td>2018-12-31 00:00:00</td>\n",
       "      <td>8592115</td>\n",
       "      <td>7A</td>\n",
       "      <td>7A_85</td>\n",
       "      <td>1</td>\n",
       "      <td>49500</td>\n",
       "      <td>52723</td>\n",
       "      <td>BasDef</td>\n",
       "      <td>49622.0</td>\n",
       "      <td>54138.0</td>\n",
       "      <td>NaN</td>\n",
       "      <td>2019-01-16 18:27:21</td>\n",
       "      <td>,2796706,\\r</td>\n",
       "    </tr>\n",
       "    <tr>\n",
       "      <th>2182636</th>\n",
       "      <td>DB</td>\n",
       "      <td>2018-12-31 00:00:00</td>\n",
       "      <td>8592116</td>\n",
       "      <td>7A</td>\n",
       "      <td>7A_87</td>\n",
       "      <td>2</td>\n",
       "      <td>54900</td>\n",
       "      <td>58565</td>\n",
       "      <td>BasDef</td>\n",
       "      <td>54905.0</td>\n",
       "      <td>59262.0</td>\n",
       "      <td>NaN</td>\n",
       "      <td>2019-01-16 18:27:21</td>\n",
       "      <td>,2796708,\\r</td>\n",
       "    </tr>\n",
       "  </tbody>\n",
       "</table>\n",
       "<p>2182637 rows × 14 columns</p>\n",
       "</div>"
      ],
      "text/plain": [
       "        DataSource         DayOfService   TripID LineID RouteID  Direction  \\\n",
       "0               DB  2018-01-01 00:00:00  5955277     16   16_20          1   \n",
       "1               DB  2018-01-01 00:00:00  5955278     16   16_24          2   \n",
       "2               DB  2018-01-01 00:00:00  5955279     16   16_20          1   \n",
       "3               DB  2018-01-01 00:00:00  5955280     16   16_24          2   \n",
       "4               DB  2018-01-01 00:00:00  5955281     16   16_20          1   \n",
       "...            ...                  ...      ...    ...     ...        ...   \n",
       "2182632         DB  2018-12-31 00:00:00  8592110     11   11_42          2   \n",
       "2182633         DB  2018-12-31 00:00:00  8592113     7A   7A_85          1   \n",
       "2182634         DB  2018-12-31 00:00:00  8592114     7A   7A_87          2   \n",
       "2182635         DB  2018-12-31 00:00:00  8592115     7A   7A_85          1   \n",
       "2182636         DB  2018-12-31 00:00:00  8592116     7A   7A_87          2   \n",
       "\n",
       "         PlannedTime_Dep  PlannedTime_Arr   Basin  ActualTime_Dep  \\\n",
       "0                  30000            33932  BasDef         30029.0   \n",
       "1                  36000            40588  BasDef         35865.0   \n",
       "2                  42000            47365  BasDef         41980.0   \n",
       "3                  48000            53590  BasDef         48008.0   \n",
       "4                  54000            59288  BasDef         54221.0   \n",
       "...                  ...              ...     ...             ...   \n",
       "2182632            75600            78677  BasDef         75659.0   \n",
       "2182633            38700            42098  BasDef         38607.0   \n",
       "2182634            44100            48149  BasDef         43990.0   \n",
       "2182635            49500            52723  BasDef         49622.0   \n",
       "2182636            54900            58565  BasDef         54905.0   \n",
       "\n",
       "         ActualTime_Arr  JustificationID           LastUpdate         Note  \n",
       "0               33184.0              NaN  2018-01-08 17:21:10  ,1899692,\\r  \n",
       "1               39653.0              NaN  2018-01-08 17:21:10  ,1899695,\\r  \n",
       "2               46619.0              NaN  2018-01-08 17:21:10  ,1899696,\\r  \n",
       "3               53790.0              NaN  2018-01-08 17:21:10  ,1899698,\\r  \n",
       "4               59344.0              NaN  2018-01-08 17:21:10  ,1899699,\\r  \n",
       "...                 ...              ...                  ...          ...  \n",
       "2182632         79491.0              NaN  2019-01-16 18:27:21  ,1897933,\\r  \n",
       "2182633         42454.0              NaN  2019-01-16 18:27:21  ,2796703,\\r  \n",
       "2182634         48039.0              NaN  2019-01-16 18:27:21  ,2796705,\\r  \n",
       "2182635         54138.0              NaN  2019-01-16 18:27:21  ,2796706,\\r  \n",
       "2182636         59262.0              NaN  2019-01-16 18:27:21  ,2796708,\\r  \n",
       "\n",
       "[2182637 rows x 14 columns]"
      ]
     },
     "execution_count": 40,
     "metadata": {},
     "output_type": "execute_result"
    }
   ],
   "source": [
    "df_trip=pd.read_csv('data_prepared/df_trip.csv',index_col=0,header=0)\n",
    "df_trip"
   ]
  },
  {
   "cell_type": "code",
   "execution_count": 41,
   "metadata": {},
   "outputs": [
    {
     "data": {
      "text/plain": [
       "(2182637, 14)"
      ]
     },
     "execution_count": 41,
     "metadata": {},
     "output_type": "execute_result"
    }
   ],
   "source": [
    "df_trip.shape"
   ]
  },
  {
   "cell_type": "markdown",
   "metadata": {},
   "source": [
    "## 2.1 PlannedTime_Dep & ActualTime_Dep"
   ]
  },
  {
   "cell_type": "code",
   "execution_count": 47,
   "metadata": {},
   "outputs": [
    {
     "data": {
      "image/png": "[encoded data removed]",
      "text/plain": [
       "<Figure size 432x288 with 1 Axes>"
      ]
     },
     "metadata": {
      "needs_background": "light"
     },
     "output_type": "display_data"
    }
   ],
   "source": [
    "plt.hist(df_trip['ActualTime_Dep'], bins=40, facecolor=\"green\", edgecolor=\"black\",label='ActualTime_Dep')\n",
    "plt.hist(df_trip['PlannedTime_Dep'], bins=40, facecolor=\"blue\", edgecolor=\"black\",label='PlannedTime_Dep')\n",
    "\n",
    "# x\n",
    "plt.xlabel(\"departure time\")\n",
    "# y\n",
    "plt.ylabel(\"frequency\")\n",
    "\n",
    "plt.legend()\n",
    "\n",
    "plt.show()\n"
   ]
  },
  {
   "cell_type": "markdown",
   "metadata": {},
   "source": [
    "## 2.2 PlannedTime_Arr & ActualTime_Arr"
   ]
  },
  {
   "cell_type": "code",
   "execution_count": 48,
   "metadata": {},
   "outputs": [
    {
     "data": {
      "image/png": "[encoded data removed]",
      "text/plain": [
       "<Figure size 432x288 with 1 Axes>"
      ]
     },
     "metadata": {
      "needs_background": "light"
     },
     "output_type": "display_data"
    }
   ],
   "source": [
    "plt.hist(df_trip['ActualTime_Arr'], bins=40, facecolor=\"green\", edgecolor=\"black\",label='ActualTime_Arr')\n",
    "plt.hist(df_trip['PlannedTime_Arr'], bins=40, facecolor=\"blue\", edgecolor=\"black\",label='PlannedTime_Arr')\n",
    "\n",
    "# x\n",
    "plt.xlabel(\"arrival time\")\n",
    "# y\n",
    "plt.ylabel(\"frequency\")\n",
    "\n",
    "plt.legend()\n",
    "\n",
    "plt.show()"
   ]
  },
  {
   "cell_type": "markdown",
   "metadata": {},
   "source": [
    "## 2.3 TripID"
   ]
  },
  {
   "cell_type": "code",
   "execution_count": 58,
   "metadata": {},
   "outputs": [
    {
     "data": {
      "text/plain": [
       "7328055    19\n",
       "7331379    19\n",
       "7327613    19\n",
       "7319409    19\n",
       "7324088    19\n",
       "           ..\n",
       "8109518     1\n",
       "7153828     1\n",
       "7147683     1\n",
       "8078801     1\n",
       "8048034     1\n",
       "Name: TripID, Length: 658964, dtype: int64"
      ]
     },
     "execution_count": 58,
     "metadata": {},
     "output_type": "execute_result"
    }
   ],
   "source": [
    "df_trip['TripID'].value_counts()"
   ]
  },
  {
   "cell_type": "code",
   "execution_count": 59,
   "metadata": {},
   "outputs": [
    {
     "data": {
      "text/plain": [
       "46A_74     37182\n",
       "46A_67     35759\n",
       "145_102    29259\n",
       "15_17      28471\n",
       "145_105    27964\n",
       "           ...  \n",
       "41B_58         5\n",
       "140_16         5\n",
       "41X_131        4\n",
       "14C_10         4\n",
       "33D_76         2\n",
       "Name: RouteID, Length: 588, dtype: int64"
      ]
     },
     "execution_count": 59,
     "metadata": {},
     "output_type": "execute_result"
    }
   ],
   "source": [
    "df_trip['RouteID'].value_counts()"
   ]
  },
  {
   "cell_type": "code",
   "execution_count": 60,
   "metadata": {},
   "outputs": [
    {
     "data": {
      "text/plain": [
       "2    1100273\n",
       "1    1082364\n",
       "Name: Direction, dtype: int64"
      ]
     },
     "execution_count": 60,
     "metadata": {},
     "output_type": "execute_result"
    }
   ],
   "source": [
    "df_trip['Direction'].value_counts()"
   ]
  },
  {
   "cell_type": "code",
   "execution_count": 61,
   "metadata": {},
   "outputs": [
    {
     "data": {
      "text/plain": [
       "46A    76728\n",
       "145    62730\n",
       "15     58083\n",
       "40     56974\n",
       "39A    55301\n",
       "       ...  \n",
       "77X      243\n",
       "51X      238\n",
       "16D       84\n",
       "41D       36\n",
       "33E       14\n",
       "Name: LineID, Length: 130, dtype: int64"
      ]
     },
     "execution_count": 61,
     "metadata": {},
     "output_type": "execute_result"
    }
   ],
   "source": [
    "df_trip['LineID'].value_counts()"
   ]
  },
  {
   "cell_type": "code",
   "execution_count": null,
   "metadata": {},
   "outputs": [],
   "source": []
  },
  {
   "cell_type": "markdown",
   "metadata": {},
   "source": [
    "# 2 Jan_LeaveTimes"
   ]
  },
  {
   "cell_type": "code",
   "execution_count": 62,
   "metadata": {},
   "outputs": [
    {
     "name": "stderr",
     "output_type": "stream",
     "text": [
      "D:\\Software\\Anaconda\\lib\\site-packages\\numpy\\lib\\arraysetops.py:569: FutureWarning: elementwise comparison failed; returning scalar instead, but in the future will perform elementwise comparison\n",
      "  mask |= (ar1 == a)\n"
     ]
    },
    {
     "data": {
      "text/html": [
       "<div>\n",
       "<style scoped>\n",
       "    .dataframe tbody tr th:only-of-type {\n",
       "        vertical-align: middle;\n",
       "    }\n",
       "\n",
       "    .dataframe tbody tr th {\n",
       "        vertical-align: top;\n",
       "    }\n",
       "\n",
       "    .dataframe thead th {\n",
       "        text-align: right;\n",
       "    }\n",
       "</style>\n",
       "<table border=\"1\" class=\"dataframe\">\n",
       "  <thead>\n",
       "    <tr style=\"text-align: right;\">\n",
       "      <th></th>\n",
       "      <th>DayOfService</th>\n",
       "      <th>TripID</th>\n",
       "      <th>ProgrNumber</th>\n",
       "      <th>StopPointID</th>\n",
       "      <th>PlannedTime_Arr</th>\n",
       "      <th>ActualTime_Arr</th>\n",
       "      <th>ActualTime_Dep</th>\n",
       "      <th>VehicleID</th>\n",
       "    </tr>\n",
       "  </thead>\n",
       "  <tbody>\n",
       "    <tr>\n",
       "      <th>0</th>\n",
       "      <td>2018-01-01</td>\n",
       "      <td>5955277</td>\n",
       "      <td>1</td>\n",
       "      <td>7347</td>\n",
       "      <td>30000</td>\n",
       "      <td>30029</td>\n",
       "      <td>30029</td>\n",
       "      <td>1001127</td>\n",
       "    </tr>\n",
       "    <tr>\n",
       "      <th>1</th>\n",
       "      <td>2018-01-01</td>\n",
       "      <td>5955277</td>\n",
       "      <td>2</td>\n",
       "      <td>3669</td>\n",
       "      <td>30080</td>\n",
       "      <td>30128</td>\n",
       "      <td>30128</td>\n",
       "      <td>1001127</td>\n",
       "    </tr>\n",
       "    <tr>\n",
       "      <th>2</th>\n",
       "      <td>2018-01-01</td>\n",
       "      <td>5955277</td>\n",
       "      <td>3</td>\n",
       "      <td>7349</td>\n",
       "      <td>30138</td>\n",
       "      <td>30182</td>\n",
       "      <td>30182</td>\n",
       "      <td>1001127</td>\n",
       "    </tr>\n",
       "    <tr>\n",
       "      <th>3</th>\n",
       "      <td>2018-01-01</td>\n",
       "      <td>5955277</td>\n",
       "      <td>4</td>\n",
       "      <td>1631</td>\n",
       "      <td>30206</td>\n",
       "      <td>30255</td>\n",
       "      <td>30255</td>\n",
       "      <td>1001127</td>\n",
       "    </tr>\n",
       "    <tr>\n",
       "      <th>4</th>\n",
       "      <td>2018-01-01</td>\n",
       "      <td>5955277</td>\n",
       "      <td>5</td>\n",
       "      <td>1632</td>\n",
       "      <td>30221</td>\n",
       "      <td>30261</td>\n",
       "      <td>30261</td>\n",
       "      <td>1001127</td>\n",
       "    </tr>\n",
       "    <tr>\n",
       "      <th>...</th>\n",
       "      <td>...</td>\n",
       "      <td>...</td>\n",
       "      <td>...</td>\n",
       "      <td>...</td>\n",
       "      <td>...</td>\n",
       "      <td>...</td>\n",
       "      <td>...</td>\n",
       "      <td>...</td>\n",
       "    </tr>\n",
       "    <tr>\n",
       "      <th>10524999</th>\n",
       "      <td>2018-01-31</td>\n",
       "      <td>6245816</td>\n",
       "      <td>29</td>\n",
       "      <td>792</td>\n",
       "      <td>27840</td>\n",
       "      <td>27608</td>\n",
       "      <td>27640</td>\n",
       "      <td>1000485</td>\n",
       "    </tr>\n",
       "    <tr>\n",
       "      <th>10525000</th>\n",
       "      <td>2018-01-31</td>\n",
       "      <td>6245816</td>\n",
       "      <td>31</td>\n",
       "      <td>320</td>\n",
       "      <td>28085</td>\n",
       "      <td>27914</td>\n",
       "      <td>27963</td>\n",
       "      <td>1000485</td>\n",
       "    </tr>\n",
       "    <tr>\n",
       "      <th>10525001</th>\n",
       "      <td>2018-01-31</td>\n",
       "      <td>6245816</td>\n",
       "      <td>32</td>\n",
       "      <td>7491</td>\n",
       "      <td>28200</td>\n",
       "      <td>28074</td>\n",
       "      <td>28074</td>\n",
       "      <td>1000485</td>\n",
       "    </tr>\n",
       "    <tr>\n",
       "      <th>10525002</th>\n",
       "      <td>2018-01-31</td>\n",
       "      <td>6245816</td>\n",
       "      <td>33</td>\n",
       "      <td>278</td>\n",
       "      <td>28370</td>\n",
       "      <td>28143</td>\n",
       "      <td>28178</td>\n",
       "      <td>1000485</td>\n",
       "    </tr>\n",
       "    <tr>\n",
       "      <th>10525003</th>\n",
       "      <td>2018-01-31</td>\n",
       "      <td>6245816</td>\n",
       "      <td>34</td>\n",
       "      <td>2</td>\n",
       "      <td>28500</td>\n",
       "      <td>28226</td>\n",
       "      <td>28226</td>\n",
       "      <td>1000485</td>\n",
       "    </tr>\n",
       "  </tbody>\n",
       "</table>\n",
       "<p>10525004 rows × 8 columns</p>\n",
       "</div>"
      ],
      "text/plain": [
       "         DayOfService   TripID  ProgrNumber  StopPointID  PlannedTime_Arr  \\\n",
       "0          2018-01-01  5955277            1         7347            30000   \n",
       "1          2018-01-01  5955277            2         3669            30080   \n",
       "2          2018-01-01  5955277            3         7349            30138   \n",
       "3          2018-01-01  5955277            4         1631            30206   \n",
       "4          2018-01-01  5955277            5         1632            30221   \n",
       "...               ...      ...          ...          ...              ...   \n",
       "10524999   2018-01-31  6245816           29          792            27840   \n",
       "10525000   2018-01-31  6245816           31          320            28085   \n",
       "10525001   2018-01-31  6245816           32         7491            28200   \n",
       "10525002   2018-01-31  6245816           33          278            28370   \n",
       "10525003   2018-01-31  6245816           34            2            28500   \n",
       "\n",
       "          ActualTime_Arr  ActualTime_Dep  VehicleID  \n",
       "0                  30029           30029    1001127  \n",
       "1                  30128           30128    1001127  \n",
       "2                  30182           30182    1001127  \n",
       "3                  30255           30255    1001127  \n",
       "4                  30261           30261    1001127  \n",
       "...                  ...             ...        ...  \n",
       "10524999           27608           27640    1000485  \n",
       "10525000           27914           27963    1000485  \n",
       "10525001           28074           28074    1000485  \n",
       "10525002           28143           28178    1000485  \n",
       "10525003           28226           28226    1000485  \n",
       "\n",
       "[10525004 rows x 8 columns]"
      ]
     },
     "execution_count": 62,
     "metadata": {},
     "output_type": "execute_result"
    }
   ],
   "source": [
    "df_jan_lt=pd.read_csv('data_prepared/df_jan_lt.csv',index_col=0,header=0)\n",
    "df_jan_lt"
   ]
  },
  {
   "cell_type": "code",
   "execution_count": 63,
   "metadata": {},
   "outputs": [
    {
     "data": {
      "text/plain": [
       "(10525004, 8)"
      ]
     },
     "execution_count": 63,
     "metadata": {},
     "output_type": "execute_result"
    }
   ],
   "source": [
    "df_jan_lt.shape"
   ]
  },
  {
   "cell_type": "markdown",
   "metadata": {},
   "source": [
    "## 2.1 PlannedTime_Dep & ActualTime_Dep"
   ]
  },
  {
   "cell_type": "code",
   "execution_count": 64,
   "metadata": {},
   "outputs": [
    {
     "data": {
      "image/png": "[encoded data removed]",
      "text/plain": [
       "<Figure size 432x288 with 1 Axes>"
      ]
     },
     "metadata": {
      "needs_background": "light"
     },
     "output_type": "display_data"
    }
   ],
   "source": [
    "plt.hist(df_jan_lt['ActualTime_Arr'], bins=40, facecolor=\"green\", edgecolor=\"black\",label='ActualTime_Arr')\n",
    "plt.hist(df_jan_lt['PlannedTime_Arr'], bins=40, facecolor=\"blue\", edgecolor=\"black\",label='PlannedTime_Arr')\n",
    "\n",
    "# x\n",
    "plt.xlabel(\"arrival time\")\n",
    "# y\n",
    "plt.ylabel(\"frequency\")\n",
    "\n",
    "plt.legend()\n",
    "\n",
    "plt.show()"
   ]
  },
  {
   "cell_type": "code",
   "execution_count": 67,
   "metadata": {},
   "outputs": [
    {
     "data": {
      "image/png": "[encoded data removed]",
      "text/plain": [
       "<Figure size 432x288 with 1 Axes>"
      ]
     },
     "metadata": {
      "needs_background": "light"
     },
     "output_type": "display_data"
    }
   ],
   "source": [
    "\n",
    "plt.hist(df_jan_lt['ActualTime_Arr'], bins=40, facecolor=\"green\", edgecolor=\"black\",label='ActualTime_Arr')\n",
    "plt.hist(df_jan_lt['ActualTime_Dep'], bins=40, facecolor=\"blue\", edgecolor=\"black\",label='ActualTime_Dep')\n",
    "# x\n",
    "plt.xlabel(\"arrival time\")\n",
    "# y\n",
    "plt.ylabel(\"frequency\")\n",
    "\n",
    "plt.legend()\n",
    "\n",
    "plt.show()"
   ]
  }
 ],
 "metadata": {
  "kernelspec": {
   "display_name": "Python [conda env:root] *",
   "language": "python",
   "name": "conda-root-py"
  },
  "language_info": {
   "codemirror_mode": {
    "name": "ipython",
    "version": 3
   },
   "file_extension": ".py",
   "mimetype": "text/x-python",
   "name": "python",
   "nbconvert_exporter": "python",
   "pygments_lexer": "ipython3",
   "version": "3.7.4"
  }
 },
 "nbformat": 4,
 "nbformat_minor": 4
}
