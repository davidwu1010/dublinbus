{
 "cells": [
  {
   "cell_type": "markdown",
   "metadata": {},
   "source": [
    "# stop information"
   ]
  },
  {
   "cell_type": "code",
   "execution_count": 1,
   "metadata": {},
   "outputs": [],
   "source": [
    "import pandas as pd\n",
    "import numpy as py"
   ]
  },
  {
   "cell_type": "code",
   "execution_count": 2,
   "metadata": {},
   "outputs": [],
   "source": [
    "stops=pd.read_csv('../data_analysis/initial_data/gtfs_data/Stops.csv',index_col=0)"
   ]
  },
  {
   "cell_type": "code",
   "execution_count": 3,
   "metadata": {},
   "outputs": [
    {
     "data": {
      "text/html": [
       "<div>\n",
       "<style scoped>\n",
       "    .dataframe tbody tr th:only-of-type {\n",
       "        vertical-align: middle;\n",
       "    }\n",
       "\n",
       "    .dataframe tbody tr th {\n",
       "        vertical-align: top;\n",
       "    }\n",
       "\n",
       "    .dataframe thead th {\n",
       "        text-align: right;\n",
       "    }\n",
       "</style>\n",
       "<table border=\"1\" class=\"dataframe\">\n",
       "  <thead>\n",
       "    <tr style=\"text-align: right;\">\n",
       "      <th></th>\n",
       "      <th>StopID</th>\n",
       "      <th>StopName</th>\n",
       "      <th>Lat</th>\n",
       "      <th>Lon</th>\n",
       "      <th>StopNumber</th>\n",
       "    </tr>\n",
       "  </thead>\n",
       "  <tbody>\n",
       "    <tr>\n",
       "      <th>0</th>\n",
       "      <td>8220DB000002</td>\n",
       "      <td>Parnell Square West, stop 2</td>\n",
       "      <td>53.352244</td>\n",
       "      <td>-6.263723</td>\n",
       "      <td>2</td>\n",
       "    </tr>\n",
       "    <tr>\n",
       "      <th>1</th>\n",
       "      <td>8220DB000003</td>\n",
       "      <td>Parnell Square West, stop 3</td>\n",
       "      <td>53.352309</td>\n",
       "      <td>-6.263811</td>\n",
       "      <td>3</td>\n",
       "    </tr>\n",
       "    <tr>\n",
       "      <th>2</th>\n",
       "      <td>8220DB000004</td>\n",
       "      <td>Parnell Square West, stop 4</td>\n",
       "      <td>53.352575</td>\n",
       "      <td>-6.264175</td>\n",
       "      <td>4</td>\n",
       "    </tr>\n",
       "    <tr>\n",
       "      <th>3</th>\n",
       "      <td>8220DB000006</td>\n",
       "      <td>Parnell Square West, stop 6</td>\n",
       "      <td>53.352749</td>\n",
       "      <td>-6.264454</td>\n",
       "      <td>6</td>\n",
       "    </tr>\n",
       "    <tr>\n",
       "      <th>4</th>\n",
       "      <td>8220DB000007</td>\n",
       "      <td>Parnell Square West, stop 7</td>\n",
       "      <td>53.352841</td>\n",
       "      <td>-6.264570</td>\n",
       "      <td>7</td>\n",
       "    </tr>\n",
       "  </tbody>\n",
       "</table>\n",
       "</div>"
      ],
      "text/plain": [
       "         StopID                     StopName        Lat       Lon  StopNumber\n",
       "0  8220DB000002  Parnell Square West, stop 2  53.352244 -6.263723           2\n",
       "1  8220DB000003  Parnell Square West, stop 3  53.352309 -6.263811           3\n",
       "2  8220DB000004  Parnell Square West, stop 4  53.352575 -6.264175           4\n",
       "3  8220DB000006  Parnell Square West, stop 6  53.352749 -6.264454           6\n",
       "4  8220DB000007  Parnell Square West, stop 7  53.352841 -6.264570           7"
      ]
     },
     "execution_count": 3,
     "metadata": {},
     "output_type": "execute_result"
    }
   ],
   "source": [
    "stops.head()"
   ]
  },
  {
   "cell_type": "markdown",
   "metadata": {},
   "source": [
    "# split stopName"
   ]
  },
  {
   "cell_type": "code",
   "execution_count": 6,
   "metadata": {},
   "outputs": [
    {
     "data": {
      "text/html": [
       "<div>\n",
       "<style scoped>\n",
       "    .dataframe tbody tr th:only-of-type {\n",
       "        vertical-align: middle;\n",
       "    }\n",
       "\n",
       "    .dataframe tbody tr th {\n",
       "        vertical-align: top;\n",
       "    }\n",
       "\n",
       "    .dataframe thead th {\n",
       "        text-align: right;\n",
       "    }\n",
       "</style>\n",
       "<table border=\"1\" class=\"dataframe\">\n",
       "  <thead>\n",
       "    <tr style=\"text-align: right;\">\n",
       "      <th></th>\n",
       "      <th>StopID</th>\n",
       "      <th>StopName</th>\n",
       "      <th>Lat</th>\n",
       "      <th>Lon</th>\n",
       "      <th>StopNumber</th>\n",
       "    </tr>\n",
       "  </thead>\n",
       "  <tbody>\n",
       "    <tr>\n",
       "      <th>0</th>\n",
       "      <td>8220DB000002</td>\n",
       "      <td>Parnell Square West</td>\n",
       "      <td>53.352244</td>\n",
       "      <td>-6.263723</td>\n",
       "      <td>2</td>\n",
       "    </tr>\n",
       "    <tr>\n",
       "      <th>1</th>\n",
       "      <td>8220DB000003</td>\n",
       "      <td>Parnell Square West</td>\n",
       "      <td>53.352309</td>\n",
       "      <td>-6.263811</td>\n",
       "      <td>3</td>\n",
       "    </tr>\n",
       "    <tr>\n",
       "      <th>2</th>\n",
       "      <td>8220DB000004</td>\n",
       "      <td>Parnell Square West</td>\n",
       "      <td>53.352575</td>\n",
       "      <td>-6.264175</td>\n",
       "      <td>4</td>\n",
       "    </tr>\n",
       "    <tr>\n",
       "      <th>3</th>\n",
       "      <td>8220DB000006</td>\n",
       "      <td>Parnell Square West</td>\n",
       "      <td>53.352749</td>\n",
       "      <td>-6.264454</td>\n",
       "      <td>6</td>\n",
       "    </tr>\n",
       "    <tr>\n",
       "      <th>4</th>\n",
       "      <td>8220DB000007</td>\n",
       "      <td>Parnell Square West</td>\n",
       "      <td>53.352841</td>\n",
       "      <td>-6.264570</td>\n",
       "      <td>7</td>\n",
       "    </tr>\n",
       "  </tbody>\n",
       "</table>\n",
       "</div>"
      ],
      "text/plain": [
       "         StopID             StopName        Lat       Lon  StopNumber\n",
       "0  8220DB000002  Parnell Square West  53.352244 -6.263723           2\n",
       "1  8220DB000003  Parnell Square West  53.352309 -6.263811           3\n",
       "2  8220DB000004  Parnell Square West  53.352575 -6.264175           4\n",
       "3  8220DB000006  Parnell Square West  53.352749 -6.264454           6\n",
       "4  8220DB000007  Parnell Square West  53.352841 -6.264570           7"
      ]
     },
     "execution_count": 6,
     "metadata": {},
     "output_type": "execute_result"
    }
   ],
   "source": [
    "def split_stopName(stopName):\n",
    "    result=stopName.split(',')\n",
    "    return result[0]\n",
    "\n",
    "stops['StopName']=stops['StopName'].map(split_stopName)\n",
    "stops.head()"
   ]
  },
  {
   "cell_type": "code",
   "execution_count": 5,
   "metadata": {},
   "outputs": [
    {
     "data": {
      "text/html": [
       "<div>\n",
       "<style scoped>\n",
       "    .dataframe tbody tr th:only-of-type {\n",
       "        vertical-align: middle;\n",
       "    }\n",
       "\n",
       "    .dataframe tbody tr th {\n",
       "        vertical-align: top;\n",
       "    }\n",
       "\n",
       "    .dataframe thead th {\n",
       "        text-align: right;\n",
       "    }\n",
       "</style>\n",
       "<table border=\"1\" class=\"dataframe\">\n",
       "  <thead>\n",
       "    <tr style=\"text-align: right;\">\n",
       "      <th></th>\n",
       "      <th>StopID</th>\n",
       "      <th>StopName</th>\n",
       "      <th>Lat</th>\n",
       "      <th>Lon</th>\n",
       "      <th>StopNumber</th>\n",
       "    </tr>\n",
       "  </thead>\n",
       "  <tbody>\n",
       "    <tr>\n",
       "      <th>0</th>\n",
       "      <td>8220DB000002</td>\n",
       "      <td>Parnell Square West</td>\n",
       "      <td>53.352244</td>\n",
       "      <td>-6.263723</td>\n",
       "      <td>2</td>\n",
       "    </tr>\n",
       "    <tr>\n",
       "      <th>1</th>\n",
       "      <td>8220DB000003</td>\n",
       "      <td>Parnell Square West</td>\n",
       "      <td>53.352309</td>\n",
       "      <td>-6.263811</td>\n",
       "      <td>3</td>\n",
       "    </tr>\n",
       "    <tr>\n",
       "      <th>2</th>\n",
       "      <td>8220DB000004</td>\n",
       "      <td>Parnell Square West</td>\n",
       "      <td>53.352575</td>\n",
       "      <td>-6.264175</td>\n",
       "      <td>4</td>\n",
       "    </tr>\n",
       "    <tr>\n",
       "      <th>3</th>\n",
       "      <td>8220DB000006</td>\n",
       "      <td>Parnell Square West</td>\n",
       "      <td>53.352749</td>\n",
       "      <td>-6.264454</td>\n",
       "      <td>6</td>\n",
       "    </tr>\n",
       "    <tr>\n",
       "      <th>4</th>\n",
       "      <td>8220DB000007</td>\n",
       "      <td>Parnell Square West</td>\n",
       "      <td>53.352841</td>\n",
       "      <td>-6.264570</td>\n",
       "      <td>7</td>\n",
       "    </tr>\n",
       "  </tbody>\n",
       "</table>\n",
       "</div>"
      ],
      "text/plain": [
       "         StopID             StopName        Lat       Lon  StopNumber\n",
       "0  8220DB000002  Parnell Square West  53.352244 -6.263723           2\n",
       "1  8220DB000003  Parnell Square West  53.352309 -6.263811           3\n",
       "2  8220DB000004  Parnell Square West  53.352575 -6.264175           4\n",
       "3  8220DB000006  Parnell Square West  53.352749 -6.264454           6\n",
       "4  8220DB000007  Parnell Square West  53.352841 -6.264570           7"
      ]
     },
     "execution_count": 5,
     "metadata": {},
     "output_type": "execute_result"
    }
   ],
   "source": [
    "stops.head()"
   ]
  },
  {
   "cell_type": "code",
   "execution_count": 8,
   "metadata": {},
   "outputs": [],
   "source": [
    "stops_by_route=pd.read_json(\"../data/stops_by_route.json\")"
   ]
  },
  {
   "cell_type": "code",
   "execution_count": 41,
   "metadata": {},
   "outputs": [
    {
     "data": {
      "text/html": [
       "<div>\n",
       "<style scoped>\n",
       "    .dataframe tbody tr th:only-of-type {\n",
       "        vertical-align: middle;\n",
       "    }\n",
       "\n",
       "    .dataframe tbody tr th {\n",
       "        vertical-align: top;\n",
       "    }\n",
       "\n",
       "    .dataframe thead th {\n",
       "        text-align: right;\n",
       "    }\n",
       "</style>\n",
       "<table border=\"1\" class=\"dataframe\">\n",
       "  <thead>\n",
       "    <tr style=\"text-align: right;\">\n",
       "      <th></th>\n",
       "      <th>StopName</th>\n",
       "      <th>Lat</th>\n",
       "      <th>Lon</th>\n",
       "      <th>StopNumber</th>\n",
       "      <th>routes</th>\n",
       "    </tr>\n",
       "  </thead>\n",
       "  <tbody>\n",
       "    <tr>\n",
       "      <th>0</th>\n",
       "      <td>Parnell Square West</td>\n",
       "      <td>53.352244</td>\n",
       "      <td>-6.263723</td>\n",
       "      <td>2</td>\n",
       "      <td>[38, 38a, 38b, 46a, 46e]</td>\n",
       "    </tr>\n",
       "    <tr>\n",
       "      <th>1</th>\n",
       "      <td>Parnell Square West</td>\n",
       "      <td>53.352309</td>\n",
       "      <td>-6.263811</td>\n",
       "      <td>3</td>\n",
       "      <td>[120, 122]</td>\n",
       "    </tr>\n",
       "    <tr>\n",
       "      <th>2</th>\n",
       "      <td>Parnell Square West</td>\n",
       "      <td>53.352575</td>\n",
       "      <td>-6.264175</td>\n",
       "      <td>4</td>\n",
       "      <td>[7, 7a, 7b, 7d, 9]</td>\n",
       "    </tr>\n",
       "    <tr>\n",
       "      <th>3</th>\n",
       "      <td>Parnell Square West</td>\n",
       "      <td>53.352749</td>\n",
       "      <td>-6.264454</td>\n",
       "      <td>6</td>\n",
       "      <td>[155, 4]</td>\n",
       "    </tr>\n",
       "    <tr>\n",
       "      <th>4</th>\n",
       "      <td>Parnell Square West</td>\n",
       "      <td>53.352841</td>\n",
       "      <td>-6.264570</td>\n",
       "      <td>7</td>\n",
       "      <td>[13, 140, 40, 40b, 40d]</td>\n",
       "    </tr>\n",
       "  </tbody>\n",
       "</table>\n",
       "</div>"
      ],
      "text/plain": [
       "              StopName        Lat       Lon  StopNumber  \\\n",
       "0  Parnell Square West  53.352244 -6.263723           2   \n",
       "1  Parnell Square West  53.352309 -6.263811           3   \n",
       "2  Parnell Square West  53.352575 -6.264175           4   \n",
       "3  Parnell Square West  53.352749 -6.264454           6   \n",
       "4  Parnell Square West  53.352841 -6.264570           7   \n",
       "\n",
       "                     routes  \n",
       "0  [38, 38a, 38b, 46a, 46e]  \n",
       "1                [120, 122]  \n",
       "2        [7, 7a, 7b, 7d, 9]  \n",
       "3                  [155, 4]  \n",
       "4   [13, 140, 40, 40b, 40d]  "
      ]
     },
     "execution_count": 41,
     "metadata": {},
     "output_type": "execute_result"
    }
   ],
   "source": [
    "def routes_info(stopID):\n",
    "    direction=['outbound','inbound']\n",
    "    lineID=stops_by_route['routes'].keys()\n",
    "    result=[]\n",
    "    for line in lineID:\n",
    "        flag=False\n",
    "        for direc in direction:\n",
    "            stops_number=len(stops_by_route['routes'][line][direc])\n",
    "            for stop in range(stops_number):\n",
    "                if stops_by_route['routes'][line][direc][stop][\"stopNumber\"]==str(stopID):\n",
    "                    result.append(line)\n",
    "                    flag=True\n",
    "                    break\n",
    "            if flag:\n",
    "                break\n",
    "    return result       \n",
    "\n",
    "stops['routes']=stops['StopNumber'].map(routes_info)\n",
    "stops.head(5)  "
   ]
  },
  {
   "cell_type": "code",
   "execution_count": 117,
   "metadata": {},
   "outputs": [],
   "source": [
    "stops.to_csv('../data_analysis/clean_data/stop_info.csv')"
   ]
  },
  {
   "cell_type": "markdown",
   "metadata": {},
   "source": [
    "# load data from offical website "
   ]
  },
  {
   "cell_type": "code",
   "execution_count": 116,
   "metadata": {},
   "outputs": [],
   "source": [
    "stops_2020=pd.read_json(\"../data/stops.json\")"
   ]
  },
  {
   "cell_type": "code",
   "execution_count": 45,
   "metadata": {},
   "outputs": [
    {
     "data": {
      "text/plain": [
       "4145"
      ]
     },
     "execution_count": 45,
     "metadata": {},
     "output_type": "execute_result"
    }
   ],
   "source": [
    "stopPointID_20=stops_2020.stops.values\n",
    "len(stopPointID_20)"
   ]
  },
  {
   "cell_type": "code",
   "execution_count": 92,
   "metadata": {},
   "outputs": [
    {
     "data": {
      "text/plain": [
       "StopName      4220\n",
       "Lat           4220\n",
       "Lon           4220\n",
       "StopNumber    4220\n",
       "routes        4220\n",
       "dtype: int64"
      ]
     },
     "execution_count": 92,
     "metadata": {},
     "output_type": "execute_result"
    }
   ],
   "source": [
    "stops.count()"
   ]
  },
  {
   "cell_type": "markdown",
   "metadata": {},
   "source": [
    "total stops in gfts are 4220. among them, 112 are empty (no routes go through). the available stops are 4108. offical stops are 4145. there are 37 stops diffenece"
   ]
  },
  {
   "cell_type": "code",
   "execution_count": null,
   "metadata": {},
   "outputs": [],
   "source": []
  }
 ],
 "metadata": {
  "kernelspec": {
   "display_name": "Python [conda env:root] *",
   "language": "python",
   "name": "conda-root-py"
  },
  "language_info": {
   "codemirror_mode": {
    "name": "ipython",
    "version": 3
   },
   "file_extension": ".py",
   "mimetype": "text/x-python",
   "name": "python",
   "nbconvert_exporter": "python",
   "pygments_lexer": "ipython3",
   "version": "3.7.4"
  }
 },
 "nbformat": 4,
 "nbformat_minor": 4
}
